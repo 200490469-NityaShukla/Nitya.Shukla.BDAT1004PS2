{
 "cells": [
  {
   "cell_type": "markdown",
   "id": "c56846ab",
   "metadata": {},
   "source": [
    "## Problem Set 2"
   ]
  },
  {
   "cell_type": "markdown",
   "id": "509139d2",
   "metadata": {},
   "source": [
    "### Q1."
   ]
  },
  {
   "cell_type": "code",
   "execution_count": 1,
   "id": "44fa44bb",
   "metadata": {},
   "outputs": [],
   "source": [
    "a=0\n",
    "def b():\n",
    "    global a\n",
    "    a = c(a)\n",
    "\n",
    "def c(a):\n",
    "    return a+2"
   ]
  },
  {
   "cell_type": "code",
   "execution_count": 2,
   "id": "d8150fa1",
   "metadata": {},
   "outputs": [
    {
     "data": {
      "text/plain": [
       "6"
      ]
     },
     "execution_count": 2,
     "metadata": {},
     "output_type": "execute_result"
    }
   ],
   "source": [
    "b()\n",
    "b()\n",
    "b()\n",
    "a"
   ]
  },
  {
   "cell_type": "markdown",
   "id": "9935e355",
   "metadata": {},
   "source": [
    "As 'a' is defined as global variable, its value can be accessed inside a function call also.  \n",
    "  \n",
    "Initially value of a=0, when the FIRST function call is executed the value of a=0 is passed to c(a) and the value 2 is returned and stored in the same variable 'a'.  \n",
    "In the SECOND function call, the value 2 is passed to c(a) and value 4 is returned and variable 'a' gets overwritten by value 4.  \n",
    "And in the THIRD functioncall, the value 4 is passed to c(a) and value 6 is returned and variable 'a' get overwritten by value 6.  \n",
    "  \n",
    "So the value of 'a' becomes 6."
   ]
  },
  {
   "cell_type": "markdown",
   "id": "8fef42fd",
   "metadata": {},
   "source": [
    "### Q2."
   ]
  },
  {
   "cell_type": "code",
   "execution_count": 9,
   "id": "72550d67",
   "metadata": {},
   "outputs": [],
   "source": [
    "def fileLength(filename):\n",
    "    try:\n",
    "        infile = open(filename)\n",
    "        lines = infile.readlines()\n",
    "        print(\"Total Lines in file {} is {}\".format(filename,len(lines)))\n",
    "    except:\n",
    "        print(\"File {} not found\".format(filename))"
   ]
  },
  {
   "cell_type": "code",
   "execution_count": 225,
   "id": "595e072d",
   "metadata": {},
   "outputs": [
    {
     "name": "stdout",
     "output_type": "stream",
     "text": [
      "Total Lines in file FileLength.txt is 5\n"
     ]
    }
   ],
   "source": [
    "fileLength('FileLength.txt')"
   ]
  },
  {
   "cell_type": "code",
   "execution_count": 226,
   "id": "526bf9ed",
   "metadata": {},
   "outputs": [
    {
     "name": "stdout",
     "output_type": "stream",
     "text": [
      "File midterm.py not found\n"
     ]
    }
   ],
   "source": [
    "fileLength('midterm.py')"
   ]
  },
  {
   "cell_type": "markdown",
   "id": "3fef3eb7",
   "metadata": {},
   "source": [
    "### Q3."
   ]
  },
  {
   "cell_type": "code",
   "execution_count": 29,
   "id": "8f6be00e",
   "metadata": {},
   "outputs": [],
   "source": [
    "class Marsupial:\n",
    "    def __init__(self):\n",
    "        self.lst=[]\n",
    "    def put_in_pouch(self, string):\n",
    "        self.lst.append(string)\n",
    "    def pouch_contents(self):\n",
    "        print(self.lst)"
   ]
  },
  {
   "cell_type": "code",
   "execution_count": 30,
   "id": "08949e4c",
   "metadata": {},
   "outputs": [],
   "source": [
    "m = Marsupial()\n",
    "m.put_in_pouch('doll')\n",
    "m.put_in_pouch('firetruck')\n",
    "m.put_in_pouch('kitten')"
   ]
  },
  {
   "cell_type": "code",
   "execution_count": 31,
   "id": "0502ee45",
   "metadata": {},
   "outputs": [
    {
     "name": "stdout",
     "output_type": "stream",
     "text": [
      "['doll', 'firetruck', 'kitten']\n"
     ]
    }
   ],
   "source": [
    "m.pouch_contents()"
   ]
  },
  {
   "cell_type": "code",
   "execution_count": 219,
   "id": "5e23005a",
   "metadata": {},
   "outputs": [],
   "source": [
    "class Kangaroo(Marsupial):\n",
    "    'I am a kangaroo located at '\n",
    "    def __init__(self,x,y):\n",
    "        Marsupial.__init__(self)\n",
    "        self.x = x\n",
    "        self.y = y\n",
    "    def jump(self,dx,dy):\n",
    "        self.x += dx\n",
    "        self.y += dy\n",
    "    def __str__(self): \n",
    "        return f\"I am a Kangaroo located at coordinates {self.x, self.y}\"  "
   ]
  },
  {
   "cell_type": "code",
   "execution_count": 220,
   "id": "37ac4e08",
   "metadata": {},
   "outputs": [],
   "source": [
    "k = Kangaroo(0,0)\n",
    "k.jump(1,0)\n",
    "k.jump(1,0)\n",
    "k.jump(1,0)"
   ]
  },
  {
   "cell_type": "code",
   "execution_count": 221,
   "id": "9bc25af6",
   "metadata": {},
   "outputs": [
    {
     "name": "stdout",
     "output_type": "stream",
     "text": [
      "I am a Kangaroo located at coordinates (3, 0)\n"
     ]
    }
   ],
   "source": [
    "print(k)"
   ]
  },
  {
   "cell_type": "markdown",
   "id": "cef3c012",
   "metadata": {},
   "source": [
    "### Q4."
   ]
  },
  {
   "cell_type": "code",
   "execution_count": 197,
   "id": "5198a252",
   "metadata": {},
   "outputs": [],
   "source": [
    "def collatz(num):\n",
    "    print(num)\n",
    "    \n",
    "    if num==1: pass\n",
    "    else:\n",
    "        if num%2 == 0: collatz(int(num/2))\n",
    "        else: collatz(int(3*num + 1))\n"
   ]
  },
  {
   "cell_type": "code",
   "execution_count": 198,
   "id": "15a26b60",
   "metadata": {},
   "outputs": [
    {
     "name": "stdout",
     "output_type": "stream",
     "text": [
      "1\n"
     ]
    }
   ],
   "source": [
    "collatz(1)"
   ]
  },
  {
   "cell_type": "code",
   "execution_count": 199,
   "id": "f494da7e",
   "metadata": {},
   "outputs": [
    {
     "name": "stdout",
     "output_type": "stream",
     "text": [
      "10\n",
      "5\n",
      "16\n",
      "8\n",
      "4\n",
      "2\n",
      "1\n"
     ]
    }
   ],
   "source": [
    "collatz(10)"
   ]
  },
  {
   "cell_type": "markdown",
   "id": "f1615469",
   "metadata": {},
   "source": [
    "### Q5."
   ]
  },
  {
   "cell_type": "code",
   "execution_count": 200,
   "id": "aeae2f1f",
   "metadata": {},
   "outputs": [],
   "source": [
    "def binary(num):\n",
    "    print(num%2,end = '')\n",
    "    \n",
    "    if num == 1 or num==0: pass\n",
    "    else: binary(int(num / 2))"
   ]
  },
  {
   "cell_type": "code",
   "execution_count": 201,
   "id": "983ead12",
   "metadata": {},
   "outputs": [
    {
     "name": "stdout",
     "output_type": "stream",
     "text": [
      "0"
     ]
    }
   ],
   "source": [
    "binary(0)"
   ]
  },
  {
   "cell_type": "code",
   "execution_count": 202,
   "id": "2fcff991",
   "metadata": {},
   "outputs": [
    {
     "name": "stdout",
     "output_type": "stream",
     "text": [
      "1"
     ]
    }
   ],
   "source": [
    "binary(1)"
   ]
  },
  {
   "cell_type": "code",
   "execution_count": 203,
   "id": "1917a9cd",
   "metadata": {},
   "outputs": [
    {
     "name": "stdout",
     "output_type": "stream",
     "text": [
      "11"
     ]
    }
   ],
   "source": [
    "binary(3)"
   ]
  },
  {
   "cell_type": "code",
   "execution_count": 204,
   "id": "c4fa4891",
   "metadata": {},
   "outputs": [
    {
     "name": "stdout",
     "output_type": "stream",
     "text": [
      "1001"
     ]
    }
   ],
   "source": [
    "binary(9)"
   ]
  },
  {
   "cell_type": "markdown",
   "id": "7b0d716f",
   "metadata": {},
   "source": [
    "### Q6."
   ]
  },
  {
   "cell_type": "code",
   "execution_count": 223,
   "id": "1bd11e9f",
   "metadata": {},
   "outputs": [
    {
     "name": "stdout",
     "output_type": "stream",
     "text": [
      "W3C Mission\n",
      "\n",
      "\t\n",
      " Principles\n",
      " \n",
      " \n",
      "\n",
      "\n",
      "\n",
      " \n",
      "\n"
     ]
    }
   ],
   "source": [
    "from re import match, I         # Regular Expression. Used to check if a string matches a given regular expression\n",
    "from html.parser import HTMLParser\n",
    "\n",
    "getH = 0\n",
    "class HeadingParser(HTMLParser):\n",
    "\n",
    "    def handle_starttag(self, tag, attrs):\n",
    "\n",
    "        global getH\n",
    "        is_match = match(r'h(\\d)', tag, I)  # match() is used to determine if the RE matches at the\n",
    "                                               #  beginning of the string           \n",
    "        if is_match: getH = int(is_match.group(1))\n",
    "            \n",
    "    def handle_endtag(self, tag):\n",
    "        is_match = match(r'h(\\d)', tag, I)\n",
    "        if is_match: getH = 0\n",
    "\n",
    "    def handle_data(self, data):\n",
    "        if getH > 0:\n",
    "            tab = getH - 1\n",
    "            out = \" \"*tab\n",
    "            print(out+data)\n",
    "            \n",
    "infile = open('w3c.html') \n",
    "content = infile.read() \n",
    "infile.close()\n",
    "hp = HeadingParser()\n",
    "hp.feed(content)"
   ]
  },
  {
   "cell_type": "markdown",
   "id": "fa8e2be5",
   "metadata": {},
   "source": [
    "### Q7."
   ]
  },
  {
   "cell_type": "code",
   "execution_count": 224,
   "id": "24a0d4e7",
   "metadata": {},
   "outputs": [
    {
     "name": "stdout",
     "output_type": "stream",
     "text": [
      "https://www.tutorialrepublic.com/html-tutorial/html-links.php\n",
      "https://www.tutorialrepublic.com/\n",
      "https://www.facebook.com/tutorialrepublic\n",
      "https://twitter.com/tutrepublic\n",
      "https://www.facebook.com/tutorialrepublic\n",
      "https://twitter.com/tutrepublic\n",
      "https://www.buymeacoffee.com/tutrepublic\n",
      "https://facebook.com/sharer.php?u=https://www.tutorialrepublic.com%2Fhtml-tutorial%2Fhtml-links.php\n"
     ]
    }
   ],
   "source": [
    "import requests\n",
    "from bs4 import BeautifulSoup   # It is used for pulling out data from HTML/XML files\n",
    "\n",
    "def webdir(url, depth, indent):\n",
    "    resp = requests.get(url)\n",
    "    print(url)\n",
    "    if(depth == indent):\n",
    "        return\n",
    "    soup = BeautifulSoup(resp.text, 'html.parser')  # As we are concerned here with HTML files only we are using html.parser\n",
    "    for link in soup.findAll('a'):\n",
    "        new_link = link.get('href')\n",
    "        if(new_link.startswith('https')):\n",
    "            webdir(new_link, depth, indent+1)\n",
    "\n",
    "#http://reed.cs.depaul.edu/lperkovic/csc242/test1.html - Error 404 on this page so took a random URL\n",
    "webdir('https://www.tutorialrepublic.com/html-tutorial/html-links.php', 2, 1)"
   ]
  },
  {
   "cell_type": "markdown",
   "id": "5321ebc4",
   "metadata": {},
   "source": [
    "### Q8."
   ]
  },
  {
   "cell_type": "code",
   "execution_count": 158,
   "id": "cc4f4f2a",
   "metadata": {},
   "outputs": [],
   "source": [
    "import sqlite3\n",
    "conn = sqlite3.connect('PS3.db')\n",
    "cur = conn.cursor()"
   ]
  },
  {
   "cell_type": "code",
   "execution_count": 159,
   "id": "4a18a419",
   "metadata": {},
   "outputs": [
    {
     "data": {
      "text/plain": [
       "<sqlite3.Cursor at 0x1c658cef0a0>"
      ]
     },
     "execution_count": 159,
     "metadata": {},
     "output_type": "execute_result"
    }
   ],
   "source": [
    "cur.execute('''CREATE TABLE weather\n",
    "               (city text,\n",
    "               country text,\n",
    "               season text,\n",
    "               temperature real,\n",
    "               rainfall real)''')"
   ]
  },
  {
   "cell_type": "code",
   "execution_count": 160,
   "id": "57a04ad7",
   "metadata": {},
   "outputs": [
    {
     "data": {
      "text/plain": [
       "<sqlite3.Cursor at 0x1c658cef0a0>"
      ]
     },
     "execution_count": 160,
     "metadata": {},
     "output_type": "execute_result"
    }
   ],
   "source": [
    "cur.execute(\"INSERT INTO weather VALUES ('Mumbai','India','Winter',24.8,5.9)\")\n",
    "cur.execute(\"INSERT INTO weather VALUES ('Mumbai','India','Spring',28.4,16.2)\")\n",
    "cur.execute(\"INSERT INTO weather VALUES ('Mumbai','India','Summer',27.9,1549.4)\")\n",
    "cur.execute(\"INSERT INTO weather VALUES ('Mumbai','India','Fall',27.6,346.0)\")\n",
    "\n",
    "cur.execute(\"INSERT INTO weather VALUES ('London','United Kingdom','Winter',4.2,207.7)\")\n",
    "cur.execute(\"INSERT INTO weather VALUES ('London','United Kingdom','Spring',8.3,169.6)\")\n",
    "cur.execute(\"INSERT INTO weather VALUES ('London','United Kingdom','Summer',15.7,157.0)\")\n",
    "cur.execute(\"INSERT INTO weather VALUES ('London','United Kingdom','Fall',10.4,218.5)\")\n",
    "\n",
    "cur.execute(\"INSERT INTO weather VALUES ('Cairo','Egypt','Winter',13.6,16.5)\")\n",
    "cur.execute(\"INSERT INTO weather VALUES ('Cairo','Egypt','Spring',20.7,6.5)\")\n",
    "cur.execute(\"INSERT INTO weather VALUES ('Cairo','Egypt','Summer',27.7,0.1)\")\n",
    "cur.execute(\"INSERT INTO weather VALUES ('Cairo','Egypt','Fall',22.2,4.5)\")"
   ]
  },
  {
   "cell_type": "code",
   "execution_count": 163,
   "id": "ab2be42b",
   "metadata": {},
   "outputs": [
    {
     "name": "stdout",
     "output_type": "stream",
     "text": [
      "(24.8,) (28.4,) (27.9,) (27.6,) (4.2,) (8.3,) (15.7,) (10.4,) (13.6,) (20.7,) (27.7,) (22.2,) "
     ]
    }
   ],
   "source": [
    "# 1. All the temperature data\n",
    "cur.execute(\"Select temperature from weather\")\n",
    "rows = cur.fetchall()\n",
    "for row in rows:\n",
    "    print(row, end = ' ')"
   ]
  },
  {
   "cell_type": "code",
   "execution_count": 164,
   "id": "59f7e5c6",
   "metadata": {},
   "outputs": [
    {
     "name": "stdout",
     "output_type": "stream",
     "text": [
      "('Mumbai',)\n",
      "('London',)\n",
      "('Cairo',)\n"
     ]
    }
   ],
   "source": [
    "# 2. All the cities but without repetition\n",
    "cur.execute(\"Select distinct city from weather\")\n",
    "rows = cur.fetchall()\n",
    "for row in rows:\n",
    "    print(row)"
   ]
  },
  {
   "cell_type": "code",
   "execution_count": 166,
   "id": "35046503",
   "metadata": {},
   "outputs": [
    {
     "name": "stdout",
     "output_type": "stream",
     "text": [
      "('Mumbai', 'India', 'Winter', 24.8, 5.9)\n",
      "('Mumbai', 'India', 'Spring', 28.4, 16.2)\n",
      "('Mumbai', 'India', 'Summer', 27.9, 1549.4)\n",
      "('Mumbai', 'India', 'Fall', 27.6, 346.0)\n"
     ]
    }
   ],
   "source": [
    "# 3. All the records for India\n",
    "cur.execute(\"Select * from weather where country = 'India'\")\n",
    "rows = cur.fetchall()\n",
    "for row in rows:\n",
    "    print(row)"
   ]
  },
  {
   "cell_type": "code",
   "execution_count": 167,
   "id": "63e626e2",
   "metadata": {},
   "outputs": [
    {
     "name": "stdout",
     "output_type": "stream",
     "text": [
      "('Mumbai', 'India', 'Fall', 27.6, 346.0)\n",
      "('London', 'United Kingdom', 'Fall', 10.4, 218.5)\n",
      "('Cairo', 'Egypt', 'Fall', 22.2, 4.5)\n"
     ]
    }
   ],
   "source": [
    "# 4. All the Fall records\n",
    "cur.execute(\"Select * from weather where season = 'Fall'\")\n",
    "rows = cur.fetchall()\n",
    "for row in rows:\n",
    "    print(row)"
   ]
  },
  {
   "cell_type": "code",
   "execution_count": 169,
   "id": "a0009d0d",
   "metadata": {},
   "outputs": [
    {
     "name": "stdout",
     "output_type": "stream",
     "text": [
      "('Mumbai', 'India', 'Fall')\n",
      "('London', 'United Kingdom', 'Winter')\n",
      "('London', 'United Kingdom', 'Fall')\n"
     ]
    }
   ],
   "source": [
    "# 5. The city, country and season for which the avg rainfall is between 200 and 400 mm\n",
    "cur.execute(\"Select city,country,season from weather where rainfall > 200 and rainfall<400\")\n",
    "rows = cur.fetchall()\n",
    "for row in rows:\n",
    "    print(row)"
   ]
  },
  {
   "cell_type": "code",
   "execution_count": 173,
   "id": "6892b76e",
   "metadata": {},
   "outputs": [
    {
     "name": "stdout",
     "output_type": "stream",
     "text": [
      "('Cairo', 'Egypt')\n",
      "('Mumbai', 'India')\n"
     ]
    }
   ],
   "source": [
    "# 6. The city and country for which the avg Fall temp is above 20 degree, in increasing order\n",
    "cur.execute(\"Select city, country from weather where temperature > 20 and season = 'Fall' order by temperature\")\n",
    "rows = cur.fetchall()\n",
    "for row in rows:\n",
    "    print(row)"
   ]
  },
  {
   "cell_type": "code",
   "execution_count": 176,
   "id": "15bfd773",
   "metadata": {},
   "outputs": [
    {
     "name": "stdout",
     "output_type": "stream",
     "text": [
      "[(27.6,)]\n"
     ]
    }
   ],
   "source": [
    "# 7. The total annual rainfall for Cairo\n",
    "cur.execute(\"Select SUM(rainfall) from weather where city = 'Cairo'\")\n",
    "rows = cur.fetchall()\n",
    "for row in rows:\n",
    "    print(rows)"
   ]
  },
  {
   "cell_type": "code",
   "execution_count": 183,
   "id": "520680d6",
   "metadata": {},
   "outputs": [
    {
     "name": "stdout",
     "output_type": "stream",
     "text": [
      "('Fall', 569.0)\n",
      "('Spring', 192.29999999999998)\n",
      "('Summer', 1706.5)\n",
      "('Winter', 230.1)\n"
     ]
    }
   ],
   "source": [
    "# 8. The total rainfall for each season\n",
    "cur.execute(\"Select season, SUM(rainfall) from weather GROUP BY season\")\n",
    "rows = cur.fetchall()\n",
    "for row in rows:\n",
    "    print(row)"
   ]
  },
  {
   "cell_type": "markdown",
   "id": "949f0ccc",
   "metadata": {},
   "source": [
    "### Q9."
   ]
  },
  {
   "cell_type": "code",
   "execution_count": 188,
   "id": "ddfdd275",
   "metadata": {},
   "outputs": [],
   "source": [
    "words = ['The','quick','brown','fox','jumps','over','the','lazy','dog']"
   ]
  },
  {
   "cell_type": "code",
   "execution_count": 189,
   "id": "8eeb1f9b",
   "metadata": {},
   "outputs": [
    {
     "data": {
      "text/plain": [
       "['THE', 'QUICK', 'BROWN', 'FOX', 'JUMPS', 'OVER', 'THE', 'LAZY', 'DOG']"
      ]
     },
     "execution_count": 189,
     "metadata": {},
     "output_type": "execute_result"
    }
   ],
   "source": [
    "[x.upper() for x in words]"
   ]
  },
  {
   "cell_type": "code",
   "execution_count": 190,
   "id": "71cedec5",
   "metadata": {},
   "outputs": [
    {
     "data": {
      "text/plain": [
       "['the', 'quick', 'brown', 'fox', 'jumps', 'over', 'the', 'lazy', 'dog']"
      ]
     },
     "execution_count": 190,
     "metadata": {},
     "output_type": "execute_result"
    }
   ],
   "source": [
    "[x.lower() for x in words]"
   ]
  },
  {
   "cell_type": "code",
   "execution_count": 191,
   "id": "47da9863",
   "metadata": {},
   "outputs": [
    {
     "data": {
      "text/plain": [
       "[3, 5, 5, 3, 5, 4, 3, 4, 3]"
      ]
     },
     "execution_count": 191,
     "metadata": {},
     "output_type": "execute_result"
    }
   ],
   "source": [
    "# Length of each word in the list\n",
    "[len(x) for x in words]"
   ]
  },
  {
   "cell_type": "code",
   "execution_count": 192,
   "id": "fc2f9aa0",
   "metadata": {},
   "outputs": [
    {
     "data": {
      "text/plain": [
       "[['THE', 'the', 3],\n",
       " ['QUICK', 'quick', 5],\n",
       " ['BROWN', 'brown', 5],\n",
       " ['FOX', 'fox', 3],\n",
       " ['JUMPS', 'jumps', 5],\n",
       " ['OVER', 'over', 4],\n",
       " ['THE', 'the', 3],\n",
       " ['LAZY', 'lazy', 4],\n",
       " ['DOG', 'dog', 3]]"
      ]
     },
     "execution_count": 192,
     "metadata": {},
     "output_type": "execute_result"
    }
   ],
   "source": [
    "[[x.upper(),x.lower(),len(x)] for x in words]"
   ]
  },
  {
   "cell_type": "code",
   "execution_count": 193,
   "id": "8a26dcbb",
   "metadata": {},
   "outputs": [
    {
     "data": {
      "text/plain": [
       "['quick', 'brown', 'jumps', 'over', 'lazy']"
      ]
     },
     "execution_count": 193,
     "metadata": {},
     "output_type": "execute_result"
    }
   ],
   "source": [
    "# List of words containing 4 or more characters\n",
    "[x for x in words if len(x)>3]"
   ]
  }
 ],
 "metadata": {
  "kernelspec": {
   "display_name": "Python 3",
   "language": "python",
   "name": "python3"
  },
  "language_info": {
   "codemirror_mode": {
    "name": "ipython",
    "version": 3
   },
   "file_extension": ".py",
   "mimetype": "text/x-python",
   "name": "python",
   "nbconvert_exporter": "python",
   "pygments_lexer": "ipython3",
   "version": "3.8.8"
  }
 },
 "nbformat": 4,
 "nbformat_minor": 5
}
